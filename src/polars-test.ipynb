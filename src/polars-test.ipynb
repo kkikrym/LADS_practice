{
 "cells": [
  {
   "cell_type": "code",
   "execution_count": 55,
   "id": "d4dc31b7-d306-46de-bfa6-1421a253d5b5",
   "metadata": {},
   "outputs": [
    {
     "name": "stdout",
     "output_type": "stream",
     "text": [
      "Requirement already satisfied: polars in /opt/conda/lib/python3.11/site-packages (0.20.21)\n",
      "Collecting autopep8\n",
      "  Downloading autopep8-2.1.0-py2.py3-none-any.whl.metadata (16 kB)\n",
      "Collecting pycodestyle>=2.11.0 (from autopep8)\n",
      "  Downloading pycodestyle-2.11.1-py2.py3-none-any.whl.metadata (4.5 kB)\n",
      "Downloading autopep8-2.1.0-py2.py3-none-any.whl (44 kB)\n",
      "\u001b[2K   \u001b[90m━━━━━━━━━━━━━━━━━━━━━━━━━━━━━━━━━━━━━━━━\u001b[0m \u001b[32m45.0/45.0 kB\u001b[0m \u001b[31m732.0 kB/s\u001b[0m eta \u001b[36m0:00:00\u001b[0ma \u001b[36m0:00:01\u001b[0m\n",
      "\u001b[?25hDownloading pycodestyle-2.11.1-py2.py3-none-any.whl (31 kB)\n",
      "Installing collected packages: pycodestyle, autopep8\n",
      "Successfully installed autopep8-2.1.0 pycodestyle-2.11.1\n"
     ]
    }
   ],
   "source": [
    "!pip install polars autopep8\n",
    "import polars as pl"
   ]
  },
  {
   "cell_type": "markdown",
   "id": "82f83f7d-a004-421a-ab73-471d9910282f",
   "metadata": {},
   "source": [
    "#　前処理大全"
   ]
  },
  {
   "cell_type": "markdown",
   "id": "e424d42e-c5c8-4ed4-9fa7-9bf3d339ddc8",
   "metadata": {},
   "source": [
    "## 13-1"
   ]
  },
  {
   "cell_type": "code",
   "execution_count": 23,
   "id": "14b1324d-48d2-4db7-a6b8-e7053b356d2d",
   "metadata": {},
   "outputs": [],
   "source": [
    "df_customer = pl.read_csv('./data/customer.csv')\n",
    "df_hotel = pl.read_csv('./data/hotel.csv')\n",
    "df_reserve = pl.read_csv('./data/reserve.csv')"
   ]
  },
  {
   "cell_type": "code",
   "execution_count": 115,
   "id": "29182a36-6ddd-419a-bba2-06c576955b0f",
   "metadata": {},
   "outputs": [
    {
     "data": {
      "text/html": [
       "<div><style>\n",
       ".dataframe > thead > tr,\n",
       ".dataframe > tbody > tr {\n",
       "  text-align: right;\n",
       "  white-space: pre-wrap;\n",
       "}\n",
       "</style>\n",
       "<small>shape: (4_030, 19)</small><table border=\"1\" class=\"dataframe\"><thead><tr><th>reserve_id</th><th>hotel_id</th><th>customer_id</th><th>reserve_datetime</th><th>checkin_date</th><th>checkin_time</th><th>checkout_date</th><th>people_num</th><th>total_price</th><th>base_price</th><th>big_area_name</th><th>small_area_name</th><th>hotel_latitude</th><th>hotel_longitude</th><th>is_business</th><th>age</th><th>sex</th><th>home_latitude</th><th>home_longitude</th></tr><tr><td>str</td><td>str</td><td>str</td><td>str</td><td>str</td><td>str</td><td>str</td><td>i64</td><td>i64</td><td>i64</td><td>str</td><td>str</td><td>f64</td><td>f64</td><td>bool</td><td>i64</td><td>str</td><td>f64</td><td>f64</td></tr></thead><tbody><tr><td>&quot;r1&quot;</td><td>&quot;h_75&quot;</td><td>&quot;c_1&quot;</td><td>&quot;2016-03-06 13:…</td><td>&quot;2016-03-26&quot;</td><td>&quot;10:00:00&quot;</td><td>&quot;2016-03-29&quot;</td><td>4</td><td>97200</td><td>8100</td><td>&quot;B&quot;</td><td>&quot;B-2&quot;</td><td>35.54586</td><td>139.701217</td><td>false</td><td>41</td><td>&quot;man&quot;</td><td>35.092193</td><td>136.512347</td></tr><tr><td>&quot;r2&quot;</td><td>&quot;h_219&quot;</td><td>&quot;c_1&quot;</td><td>&quot;2016-07-16 23:…</td><td>&quot;2016-07-20&quot;</td><td>&quot;11:30:00&quot;</td><td>&quot;2016-07-21&quot;</td><td>2</td><td>20600</td><td>10300</td><td>&quot;B&quot;</td><td>&quot;B-3&quot;</td><td>35.644729</td><td>139.693389</td><td>true</td><td>41</td><td>&quot;man&quot;</td><td>35.092193</td><td>136.512347</td></tr><tr><td>&quot;r3&quot;</td><td>&quot;h_179&quot;</td><td>&quot;c_1&quot;</td><td>&quot;2016-09-24 10:…</td><td>&quot;2016-10-19&quot;</td><td>&quot;09:00:00&quot;</td><td>&quot;2016-10-22&quot;</td><td>2</td><td>33600</td><td>5600</td><td>&quot;G&quot;</td><td>&quot;G-4&quot;</td><td>33.599962</td><td>130.632019</td><td>false</td><td>41</td><td>&quot;man&quot;</td><td>35.092193</td><td>136.512347</td></tr><tr><td>&quot;r4&quot;</td><td>&quot;h_214&quot;</td><td>&quot;c_1&quot;</td><td>&quot;2017-03-08 03:…</td><td>&quot;2017-03-29&quot;</td><td>&quot;11:00:00&quot;</td><td>&quot;2017-03-30&quot;</td><td>4</td><td>194400</td><td>48600</td><td>&quot;C&quot;</td><td>&quot;C-2&quot;</td><td>38.333994</td><td>140.791836</td><td>false</td><td>41</td><td>&quot;man&quot;</td><td>35.092193</td><td>136.512347</td></tr><tr><td>&quot;r5&quot;</td><td>&quot;h_16&quot;</td><td>&quot;c_1&quot;</td><td>&quot;2017-09-05 19:…</td><td>&quot;2017-09-22&quot;</td><td>&quot;10:30:00&quot;</td><td>&quot;2017-09-23&quot;</td><td>3</td><td>68100</td><td>22700</td><td>&quot;A&quot;</td><td>&quot;A-3&quot;</td><td>35.911393</td><td>139.932511</td><td>false</td><td>41</td><td>&quot;man&quot;</td><td>35.092193</td><td>136.512347</td></tr><tr><td>&hellip;</td><td>&hellip;</td><td>&hellip;</td><td>&hellip;</td><td>&hellip;</td><td>&hellip;</td><td>&hellip;</td><td>&hellip;</td><td>&hellip;</td><td>&hellip;</td><td>&hellip;</td><td>&hellip;</td><td>&hellip;</td><td>&hellip;</td><td>&hellip;</td><td>&hellip;</td><td>&hellip;</td><td>&hellip;</td><td>&hellip;</td></tr><tr><td>&quot;r4026&quot;</td><td>&quot;h_129&quot;</td><td>&quot;c_999&quot;</td><td>&quot;2017-06-27 23:…</td><td>&quot;2017-07-10&quot;</td><td>&quot;09:30:00&quot;</td><td>&quot;2017-07-11&quot;</td><td>2</td><td>16000</td><td>8000</td><td>&quot;D&quot;</td><td>&quot;D-2&quot;</td><td>43.059919</td><td>141.510445</td><td>false</td><td>48</td><td>&quot;woman&quot;</td><td>38.1728</td><td>140.464198</td></tr><tr><td>&quot;r4027&quot;</td><td>&quot;h_97&quot;</td><td>&quot;c_999&quot;</td><td>&quot;2017-09-29 05:…</td><td>&quot;2017-10-09&quot;</td><td>&quot;10:30:00&quot;</td><td>&quot;2017-10-10&quot;</td><td>2</td><td>41800</td><td>20900</td><td>&quot;C&quot;</td><td>&quot;C-2&quot;</td><td>38.336324</td><td>140.696792</td><td>false</td><td>48</td><td>&quot;woman&quot;</td><td>38.1728</td><td>140.464198</td></tr><tr><td>&quot;r4028&quot;</td><td>&quot;h_27&quot;</td><td>&quot;c_999&quot;</td><td>&quot;2018-03-14 05:…</td><td>&quot;2018-04-02&quot;</td><td>&quot;11:30:00&quot;</td><td>&quot;2018-04-04&quot;</td><td>2</td><td>74800</td><td>18700</td><td>&quot;D&quot;</td><td>&quot;D-1&quot;</td><td>43.057724</td><td>141.412532</td><td>false</td><td>48</td><td>&quot;woman&quot;</td><td>38.1728</td><td>140.464198</td></tr><tr><td>&quot;r4029&quot;</td><td>&quot;h_48&quot;</td><td>&quot;c_1000&quot;</td><td>&quot;2016-04-16 15:…</td><td>&quot;2016-05-10&quot;</td><td>&quot;09:30:00&quot;</td><td>&quot;2016-05-13&quot;</td><td>4</td><td>540000</td><td>45000</td><td>&quot;C&quot;</td><td>&quot;C-3&quot;</td><td>38.42838</td><td>140.792242</td><td>false</td><td>39</td><td>&quot;man&quot;</td><td>35.452412</td><td>139.41131</td></tr><tr><td>&quot;r4030&quot;</td><td>&quot;h_117&quot;</td><td>&quot;c_1000&quot;</td><td>&quot;2016-06-06 08:…</td><td>&quot;2016-07-06&quot;</td><td>&quot;09:00:00&quot;</td><td>&quot;2016-07-09&quot;</td><td>1</td><td>44100</td><td>14700</td><td>&quot;A&quot;</td><td>&quot;A-3&quot;</td><td>35.912979</td><td>139.832314</td><td>true</td><td>39</td><td>&quot;man&quot;</td><td>35.452412</td><td>139.41131</td></tr></tbody></table></div>"
      ],
      "text/plain": [
       "shape: (4_030, 19)\n",
       "┌────────────┬──────────┬─────────────┬──────────────┬───┬─────┬───────┬─────────────┬─────────────┐\n",
       "│ reserve_id ┆ hotel_id ┆ customer_id ┆ reserve_date ┆ … ┆ age ┆ sex   ┆ home_latitu ┆ home_longit │\n",
       "│ ---        ┆ ---      ┆ ---         ┆ time         ┆   ┆ --- ┆ ---   ┆ de          ┆ ude         │\n",
       "│ str        ┆ str      ┆ str         ┆ ---          ┆   ┆ i64 ┆ str   ┆ ---         ┆ ---         │\n",
       "│            ┆          ┆             ┆ str          ┆   ┆     ┆       ┆ f64         ┆ f64         │\n",
       "╞════════════╪══════════╪═════════════╪══════════════╪═══╪═════╪═══════╪═════════════╪═════════════╡\n",
       "│ r1         ┆ h_75     ┆ c_1         ┆ 2016-03-06   ┆ … ┆ 41  ┆ man   ┆ 35.092193   ┆ 136.512347  │\n",
       "│            ┆          ┆             ┆ 13:09:42     ┆   ┆     ┆       ┆             ┆             │\n",
       "│ r2         ┆ h_219    ┆ c_1         ┆ 2016-07-16   ┆ … ┆ 41  ┆ man   ┆ 35.092193   ┆ 136.512347  │\n",
       "│            ┆          ┆             ┆ 23:39:55     ┆   ┆     ┆       ┆             ┆             │\n",
       "│ r3         ┆ h_179    ┆ c_1         ┆ 2016-09-24   ┆ … ┆ 41  ┆ man   ┆ 35.092193   ┆ 136.512347  │\n",
       "│            ┆          ┆             ┆ 10:03:17     ┆   ┆     ┆       ┆             ┆             │\n",
       "│ r4         ┆ h_214    ┆ c_1         ┆ 2017-03-08   ┆ … ┆ 41  ┆ man   ┆ 35.092193   ┆ 136.512347  │\n",
       "│            ┆          ┆             ┆ 03:20:10     ┆   ┆     ┆       ┆             ┆             │\n",
       "│ r5         ┆ h_16     ┆ c_1         ┆ 2017-09-05   ┆ … ┆ 41  ┆ man   ┆ 35.092193   ┆ 136.512347  │\n",
       "│            ┆          ┆             ┆ 19:50:37     ┆   ┆     ┆       ┆             ┆             │\n",
       "│ …          ┆ …        ┆ …           ┆ …            ┆ … ┆ …   ┆ …     ┆ …           ┆ …           │\n",
       "│ r4026      ┆ h_129    ┆ c_999       ┆ 2017-06-27   ┆ … ┆ 48  ┆ woman ┆ 38.1728     ┆ 140.464198  │\n",
       "│            ┆          ┆             ┆ 23:00:02     ┆   ┆     ┆       ┆             ┆             │\n",
       "│ r4027      ┆ h_97     ┆ c_999       ┆ 2017-09-29   ┆ … ┆ 48  ┆ woman ┆ 38.1728     ┆ 140.464198  │\n",
       "│            ┆          ┆             ┆ 05:24:57     ┆   ┆     ┆       ┆             ┆             │\n",
       "│ r4028      ┆ h_27     ┆ c_999       ┆ 2018-03-14   ┆ … ┆ 48  ┆ woman ┆ 38.1728     ┆ 140.464198  │\n",
       "│            ┆          ┆             ┆ 05:01:45     ┆   ┆     ┆       ┆             ┆             │\n",
       "│ r4029      ┆ h_48     ┆ c_1000      ┆ 2016-04-16   ┆ … ┆ 39  ┆ man   ┆ 35.452412   ┆ 139.41131   │\n",
       "│            ┆          ┆             ┆ 15:20:17     ┆   ┆     ┆       ┆             ┆             │\n",
       "│ r4030      ┆ h_117    ┆ c_1000      ┆ 2016-06-06   ┆ … ┆ 39  ┆ man   ┆ 35.452412   ┆ 139.41131   │\n",
       "│            ┆          ┆             ┆ 08:16:51     ┆   ┆     ┆       ┆             ┆             │\n",
       "└────────────┴──────────┴─────────────┴──────────────┴───┴─────┴───────┴─────────────┴─────────────┘"
      ]
     },
     "execution_count": 115,
     "metadata": {},
     "output_type": "execute_result"
    }
   ],
   "source": [
    "df_joined = df_reserve.join(df_hotel, on='hotel_id').join(df_customer, on='customer_id')\n",
    "df_joined"
   ]
  },
  {
   "cell_type": "code",
   "execution_count": 124,
   "id": "92acd03c-5587-4e00-9559-c93d63c0bef1",
   "metadata": {},
   "outputs": [
    {
     "data": {
      "text/plain": [
       "64800.0"
      ]
     },
     "execution_count": 124,
     "metadata": {},
     "output_type": "execute_result"
    }
   ],
   "source": [
    "df_joined['total_price'].median()"
   ]
  },
  {
   "cell_type": "code",
   "execution_count": 164,
   "id": "b627a8ef-3743-42c1-a192-530b10fc9926",
   "metadata": {},
   "outputs": [
    {
     "data": {
      "text/html": [
       "<div><style>\n",
       ".dataframe > thead > tr,\n",
       ".dataframe > tbody > tr {\n",
       "  text-align: right;\n",
       "  white-space: pre-wrap;\n",
       "}\n",
       "</style>\n",
       "<small>shape: (6, 5)</small><table border=\"1\" class=\"dataframe\"><thead><tr><th>年齢グループ</th><th>該当人数</th><th>合計予約回数</th><th>平均予約人数</th><th>平均予約単価</th></tr><tr><td>str</td><td>i64</td><td>u32</td><td>f64</td><td>f64</td></tr></thead><tbody><tr><td>&quot;20代&quot;</td><td>226</td><td>87</td><td>2.597701</td><td>121602.298851</td></tr><tr><td>&quot;30代&quot;</td><td>2522</td><td>978</td><td>2.578732</td><td>104611.042945</td></tr><tr><td>&quot;40代&quot;</td><td>2541</td><td>1009</td><td>2.518335</td><td>101928.444004</td></tr><tr><td>&quot;50代&quot;</td><td>1599</td><td>638</td><td>2.50627</td><td>100815.047022</td></tr><tr><td>&quot;60代&quot;</td><td>174</td><td>77</td><td>2.25974</td><td>95094.805195</td></tr><tr><td>&quot;70代&quot;</td><td>3183</td><td>1241</td><td>2.564867</td><td>103125.463336</td></tr></tbody></table></div>"
      ],
      "text/plain": [
       "shape: (6, 5)\n",
       "┌──────────────┬──────────┬──────────────┬──────────────┬───────────────┐\n",
       "│ 年齢グループ ┆ 該当人数 ┆ 合計予約回数 ┆ 平均予約人数 ┆ 平均予約単価  │\n",
       "│ ---          ┆ ---      ┆ ---          ┆ ---          ┆ ---           │\n",
       "│ str          ┆ i64      ┆ u32          ┆ f64          ┆ f64           │\n",
       "╞══════════════╪══════════╪══════════════╪══════════════╪═══════════════╡\n",
       "│ 20代         ┆ 226      ┆ 87           ┆ 2.597701     ┆ 121602.298851 │\n",
       "│ 30代         ┆ 2522     ┆ 978          ┆ 2.578732     ┆ 104611.042945 │\n",
       "│ 40代         ┆ 2541     ┆ 1009         ┆ 2.518335     ┆ 101928.444004 │\n",
       "│ 50代         ┆ 1599     ┆ 638          ┆ 2.50627      ┆ 100815.047022 │\n",
       "│ 60代         ┆ 174      ┆ 77           ┆ 2.25974      ┆ 95094.805195  │\n",
       "│ 70代         ┆ 3183     ┆ 1241         ┆ 2.564867     ┆ 103125.463336 │\n",
       "└──────────────┴──────────┴──────────────┴──────────────┴───────────────┘"
      ]
     },
     "execution_count": 164,
     "metadata": {},
     "output_type": "execute_result"
    }
   ],
   "source": [
    "df_joined_with_age_group = df_joined.with_columns(\n",
    "    pl.when( pl.col('age') <= 60 )\n",
    "    .then( pl.col('age') // 10 )\n",
    "    .otherwise( 7 )\n",
    "    .alias('age_group')\n",
    ")\n",
    "\n",
    "total_stat = df_joined_with_age_group.group_by('age_group').agg([\n",
    "    ((pl.col('age_group').mean()*10).cast(pl.Int16).cast(pl.String) + '代').alias('年齢グループ'),\n",
    "    pl.col('people_num').sum().alias('該当人数'),\n",
    "    pl.col('age_group').len().alias('合計予約回数'),\n",
    "    pl.col('people_num').mean().alias('平均予約人数'),\n",
    "    (pl.col('total_price').sum() / pl.col('total_price').len()).alias('平均予約単価'),\n",
    "])\n",
    "\n",
    "result = total_stat.sort('年齢グループ').drop('age_group')\n",
    "\n",
    "result"
   ]
  }
 ],
 "metadata": {
  "kernelspec": {
   "display_name": "Python 3 (ipykernel)",
   "language": "python",
   "name": "python3"
  },
  "language_info": {
   "codemirror_mode": {
    "name": "ipython",
    "version": 3
   },
   "file_extension": ".py",
   "mimetype": "text/x-python",
   "name": "python",
   "nbconvert_exporter": "python",
   "pygments_lexer": "ipython3",
   "version": "3.11.6"
  }
 },
 "nbformat": 4,
 "nbformat_minor": 5
}
