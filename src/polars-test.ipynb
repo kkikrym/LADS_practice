{
 "cells": [
  {
   "cell_type": "code",
   "execution_count": 10,
   "id": "bb2e40a9-55be-42cc-80dd-1c12c4ed99d5",
   "metadata": {},
   "outputs": [
    {
     "name": "stdout",
     "output_type": "stream",
     "text": [
      "Collecting polars\n",
      "  Downloading polars-0.20.21-cp38-abi3-manylinux_2_24_aarch64.whl.metadata (14 kB)\n",
      "Downloading polars-0.20.21-cp38-abi3-manylinux_2_24_aarch64.whl (25.3 MB)\n",
      "\u001b[2K   \u001b[90m━━━━━━━━━━━━━━━━━━━━━━━━━━━━━━━━━━━━━━━━\u001b[0m \u001b[32m25.3/25.3 MB\u001b[0m \u001b[31m23.8 MB/s\u001b[0m eta \u001b[36m0:00:00\u001b[0m00:01\u001b[0m00:01\u001b[0m\n",
      "\u001b[?25hInstalling collected packages: polars\n",
      "Successfully installed polars-0.20.21\n"
     ]
    }
   ],
   "source": [
    "!pip install polars\n",
    "import polars as pl"
   ]
  },
  {
   "cell_type": "code",
   "execution_count": 12,
   "id": "e2ea4405-4137-40bb-8a24-31aa70bda6d1",
   "metadata": {},
   "outputs": [
    {
     "name": "stdout",
     "output_type": "stream",
     "text": [
      "shape: (3, 4)\n",
      "┌─────────┬─────────────────────┬───────┬────────┐\n",
      "│ integer ┆ date                ┆ float ┆ string │\n",
      "│ ---     ┆ ---                 ┆ ---   ┆ ---    │\n",
      "│ i64     ┆ datetime[μs]        ┆ f64   ┆ str    │\n",
      "╞═════════╪═════════════════════╪═══════╪════════╡\n",
      "│ 1       ┆ 2025-01-01 00:00:00 ┆ 4.0   ┆ a      │\n",
      "│ 2       ┆ 2025-01-02 00:00:00 ┆ 5.0   ┆ b      │\n",
      "│ 3       ┆ 2025-01-03 00:00:00 ┆ 6.0   ┆ c      │\n",
      "└─────────┴─────────────────────┴───────┴────────┘\n"
     ]
    }
   ],
   "source": [
    "import polars as pl\n",
    "from datetime import datetime\n",
    "\n",
    "df = pl.DataFrame(\n",
    "    {\n",
    "        \"integer\": [1, 2, 3],\n",
    "        \"date\": [\n",
    "            datetime(2025, 1, 1),\n",
    "            datetime(2025, 1, 2),\n",
    "            datetime(2025, 1, 3),\n",
    "        ],\n",
    "        \"float\": [4.0, 5.0, 6.0],\n",
    "        \"string\": [\"a\", \"b\", \"c\"],\n",
    "    }\n",
    ")\n",
    "\n",
    "print(df)"
   ]
  },
  {
   "cell_type": "code",
   "execution_count": 17,
   "id": "f9c9b68d-f703-4cc7-b936-5ef82e4d689e",
   "metadata": {},
   "outputs": [],
   "source": [
    "df = pl.read_csv(\"https://j.mp/iriscsv\")"
   ]
  },
  {
   "cell_type": "code",
   "execution_count": 18,
   "id": "aabb4ab4-7af0-469c-a745-0bfa0ba87d9d",
   "metadata": {},
   "outputs": [
    {
     "data": {
      "text/html": [
       "<div><style>\n",
       ".dataframe > thead > tr,\n",
       ".dataframe > tbody > tr {\n",
       "  text-align: right;\n",
       "  white-space: pre-wrap;\n",
       "}\n",
       "</style>\n",
       "<small>shape: (150, 5)</small><table border=\"1\" class=\"dataframe\"><thead><tr><th>sepal_length</th><th>sepal_width</th><th>petal_length</th><th>petal_width</th><th>species</th></tr><tr><td>f64</td><td>f64</td><td>f64</td><td>f64</td><td>str</td></tr></thead><tbody><tr><td>5.1</td><td>3.5</td><td>1.4</td><td>0.2</td><td>&quot;setosa&quot;</td></tr><tr><td>4.9</td><td>3.0</td><td>1.4</td><td>0.2</td><td>&quot;setosa&quot;</td></tr><tr><td>4.7</td><td>3.2</td><td>1.3</td><td>0.2</td><td>&quot;setosa&quot;</td></tr><tr><td>4.6</td><td>3.1</td><td>1.5</td><td>0.2</td><td>&quot;setosa&quot;</td></tr><tr><td>5.0</td><td>3.6</td><td>1.4</td><td>0.2</td><td>&quot;setosa&quot;</td></tr><tr><td>&hellip;</td><td>&hellip;</td><td>&hellip;</td><td>&hellip;</td><td>&hellip;</td></tr><tr><td>6.7</td><td>3.0</td><td>5.2</td><td>2.3</td><td>&quot;virginica&quot;</td></tr><tr><td>6.3</td><td>2.5</td><td>5.0</td><td>1.9</td><td>&quot;virginica&quot;</td></tr><tr><td>6.5</td><td>3.0</td><td>5.2</td><td>2.0</td><td>&quot;virginica&quot;</td></tr><tr><td>6.2</td><td>3.4</td><td>5.4</td><td>2.3</td><td>&quot;virginica&quot;</td></tr><tr><td>5.9</td><td>3.0</td><td>5.1</td><td>1.8</td><td>&quot;virginica&quot;</td></tr></tbody></table></div>"
      ],
      "text/plain": [
       "shape: (150, 5)\n",
       "┌──────────────┬─────────────┬──────────────┬─────────────┬───────────┐\n",
       "│ sepal_length ┆ sepal_width ┆ petal_length ┆ petal_width ┆ species   │\n",
       "│ ---          ┆ ---         ┆ ---          ┆ ---         ┆ ---       │\n",
       "│ f64          ┆ f64         ┆ f64          ┆ f64         ┆ str       │\n",
       "╞══════════════╪═════════════╪══════════════╪═════════════╪═══════════╡\n",
       "│ 5.1          ┆ 3.5         ┆ 1.4          ┆ 0.2         ┆ setosa    │\n",
       "│ 4.9          ┆ 3.0         ┆ 1.4          ┆ 0.2         ┆ setosa    │\n",
       "│ 4.7          ┆ 3.2         ┆ 1.3          ┆ 0.2         ┆ setosa    │\n",
       "│ 4.6          ┆ 3.1         ┆ 1.5          ┆ 0.2         ┆ setosa    │\n",
       "│ 5.0          ┆ 3.6         ┆ 1.4          ┆ 0.2         ┆ setosa    │\n",
       "│ …            ┆ …           ┆ …            ┆ …           ┆ …         │\n",
       "│ 6.7          ┆ 3.0         ┆ 5.2          ┆ 2.3         ┆ virginica │\n",
       "│ 6.3          ┆ 2.5         ┆ 5.0          ┆ 1.9         ┆ virginica │\n",
       "│ 6.5          ┆ 3.0         ┆ 5.2          ┆ 2.0         ┆ virginica │\n",
       "│ 6.2          ┆ 3.4         ┆ 5.4          ┆ 2.3         ┆ virginica │\n",
       "│ 5.9          ┆ 3.0         ┆ 5.1          ┆ 1.8         ┆ virginica │\n",
       "└──────────────┴─────────────┴──────────────┴─────────────┴───────────┘"
      ]
     },
     "execution_count": 18,
     "metadata": {},
     "output_type": "execute_result"
    }
   ],
   "source": [
    "df"
   ]
  },
  {
   "cell_type": "code",
   "execution_count": null,
   "id": "14b1324d-48d2-4db7-a6b8-e7053b356d2d",
   "metadata": {},
   "outputs": [],
   "source": []
  }
 ],
 "metadata": {
  "kernelspec": {
   "display_name": "Python 3 (ipykernel)",
   "language": "python",
   "name": "python3"
  },
  "language_info": {
   "codemirror_mode": {
    "name": "ipython",
    "version": 3
   },
   "file_extension": ".py",
   "mimetype": "text/x-python",
   "name": "python",
   "nbconvert_exporter": "python",
   "pygments_lexer": "ipython3",
   "version": "3.11.6"
  }
 },
 "nbformat": 4,
 "nbformat_minor": 5
}
